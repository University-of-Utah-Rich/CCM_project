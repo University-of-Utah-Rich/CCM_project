{
 "cells": [
  {
   "cell_type": "code",
   "execution_count": 1,
   "metadata": {},
   "outputs": [
    {
     "name": "stdout",
     "output_type": "stream",
     "text": [
      "Installing requirements\n",
      "Collecting package metadata (current_repodata.json): ...working... done\n",
      "Solving environment: ...working... done\n",
      "\n",
      "# All requested packages already installed.\n",
      "\n",
      "Downloading training data\n"
     ]
    },
    {
     "name": "stderr",
     "output_type": "stream",
     "text": [
      "Training Data: 100%|█████████▉| 1.81G/1.81G [02:44<00:00, 11.0MB/s] \n"
     ]
    },
    {
     "name": "stdout",
     "output_type": "stream",
     "text": [
      "Extracting data\n",
      "Done\n"
     ]
    }
   ],
   "source": [
    "# Install required packages and download test data\n",
    "%run ./setup.py"
   ]
  },
  {
   "cell_type": "code",
   "execution_count": 2,
   "metadata": {},
   "outputs": [
    {
     "name": "stderr",
     "output_type": "stream",
     "text": [
      "2023-01-25 16:04:00.425191: I tensorflow/core/platform/cpu_feature_guard.cc:193] This TensorFlow binary is optimized with oneAPI Deep Neural Network Library (oneDNN) to use the following CPU instructions in performance-critical operations:  SSE4.1 SSE4.2 AVX AVX2 FMA\n",
      "To enable them in other operations, rebuild TensorFlow with the appropriate compiler flags.\n"
     ]
    },
    {
     "name": "stdout",
     "output_type": "stream",
     "text": [
      "Using matplotlib backend: <object object at 0x7f5546bea250>\n"
     ]
    }
   ],
   "source": [
    "# Load required packages\n",
    "import tensorflow as tf\n",
    "import numpy as np\n",
    "from tensorflow import keras\n",
    "import matplotlib.pyplot as plt\n",
    "import my_alg\n",
    "%matplotlib"
   ]
  },
  {
   "cell_type": "code",
   "execution_count": 3,
   "metadata": {},
   "outputs": [],
   "source": [
    "# define loss function\n",
    "def ave_cross_en( y_true, y_pred):\n",
    "    loss = ( keras.losses.kullback_leibler_divergence( y_true, y_pred) +  keras.losses.kld( 1 - y_true, 1- y_pred))\n",
    "    return loss"
   ]
  },
  {
   "cell_type": "code",
   "execution_count": 7,
   "metadata": {},
   "outputs": [],
   "source": [
    "# load dataset\n",
    "mnist_x = np.load('training_data/ref_optrode_plant_128_allnorm_ccm1_128.npy')\n",
    "mnist_b = np.load('training_data/ref_optrode_plant_128_allnorm_ccm1_128.npy')\n"
   ]
  },
  {
   "cell_type": "code",
   "execution_count": 8,
   "metadata": {},
   "outputs": [
    {
     "data": {
      "text/plain": [
       "((26088, 128, 128), (26088, 128, 128))"
      ]
     },
     "execution_count": 8,
     "metadata": {},
     "output_type": "execute_result"
    }
   ],
   "source": [
    "# check shape of dataset\n",
    "mnist_x.shape, mnist_b.shape"
   ]
  },
  {
   "cell_type": "code",
   "execution_count": 9,
   "metadata": {},
   "outputs": [],
   "source": [
    "# expand dimension of dataset to fit model\n",
    "mnist_b = np.expand_dims( mnist_b, axis=3)\n",
    "mnist_x = np.expand_dims( mnist_x, axis=3)"
   ]
  },
  {
   "cell_type": "code",
   "execution_count": 10,
   "metadata": {},
   "outputs": [
    {
     "data": {
      "text/plain": [
       "((26088, 128, 128, 1), (26088, 128, 128, 1))"
      ]
     },
     "execution_count": 10,
     "metadata": {},
     "output_type": "execute_result"
    }
   ],
   "source": [
    "mnist_x.shape, mnist_b.shape"
   ]
  },
  {
   "cell_type": "code",
   "execution_count": 11,
   "metadata": {},
   "outputs": [],
   "source": [
    "# define random function to seprate dataset into train data, eval data and test data, randomly\n",
    "np.random.seed(47)\n",
    "arg_random = np.random.permutation( len( mnist_b))"
   ]
  },
  {
   "cell_type": "code",
   "execution_count": 12,
   "metadata": {},
   "outputs": [],
   "source": [
    "# seprate dataset into train data, eval data and test data, randomly\n",
    "NUM_TRAIN = int( 0.9 * len( mnist_x))\n",
    "x_train = mnist_x[ arg_random[:NUM_TRAIN-1000]]\n",
    "b_train = mnist_b[arg_random[:NUM_TRAIN-1000]]\n",
    "\n",
    "x_eval = mnist_x[ arg_random[NUM_TRAIN-1000:NUM_TRAIN]]\n",
    "b_eval = mnist_b[ arg_random[NUM_TRAIN-1000:NUM_TRAIN]]\n",
    "\n",
    "x_test = mnist_x[ arg_random[NUM_TRAIN:]]\n",
    "b_test = mnist_b[ arg_random[NUM_TRAIN:]]\n"
   ]
  },
  {
   "cell_type": "code",
   "execution_count": 13,
   "metadata": {},
   "outputs": [
    {
     "name": "stderr",
     "output_type": "stream",
     "text": [
      "2023-01-25 16:08:17.325443: I tensorflow/core/platform/cpu_feature_guard.cc:193] This TensorFlow binary is optimized with oneAPI Deep Neural Network Library (oneDNN) to use the following CPU instructions in performance-critical operations:  SSE4.1 SSE4.2 AVX AVX2 FMA\n",
      "To enable them in other operations, rebuild TensorFlow with the appropriate compiler flags.\n"
     ]
    }
   ],
   "source": [
    "# define model and compile it\n",
    "model = my_alg.build_model_128()\n",
    "model.compile(optimizer=keras.optimizers.Adam(1e-3, amsgrad= True), loss=ave_cross_en, metrics=['mae'])"
   ]
  },
  {
   "cell_type": "code",
   "execution_count": 14,
   "metadata": {},
   "outputs": [
    {
     "name": "stdout",
     "output_type": "stream",
     "text": [
      "Epoch 1/17\n"
     ]
    },
    {
     "name": "stderr",
     "output_type": "stream",
     "text": [
      "2023-01-25 16:08:27.759393: W tensorflow/tsl/framework/cpu_allocator_impl.cc:82] Allocation of 1473183744 exceeds 10% of free system memory.\n",
      "2023-01-25 16:08:28.201518: W tensorflow/tsl/framework/cpu_allocator_impl.cc:82] Allocation of 1473183744 exceeds 10% of free system memory.\n"
     ]
    },
    {
     "name": "stdout",
     "output_type": "stream",
     "text": [
      "   7/1405 [..............................] - ETA: 41:25 - loss: 0.2711 - mae: 0.2134"
     ]
    },
    {
     "name": "stderr",
     "output_type": "stream",
     "text": [
      "\n",
      "KeyboardInterrupt\n",
      "\n"
     ]
    }
   ],
   "source": [
    "# train model: set batch_size and epochs\n",
    "model.fit(b_train, x_train, batch_size=16, epochs=17, verbose=1,validation_data= ( b_eval, x_eval))"
   ]
  },
  {
   "cell_type": "code",
   "execution_count": null,
   "metadata": {},
   "outputs": [],
   "source": [
    "# predict train data\n",
    "train_pred = model.predict( b_train)"
   ]
  },
  {
   "cell_type": "code",
   "execution_count": null,
   "metadata": {},
   "outputs": [],
   "source": [
    "train_fig = my_alg.show_some_results( b_train, x_train, train_pred,20)"
   ]
  },
  {
   "cell_type": "code",
   "execution_count": null,
   "metadata": {},
   "outputs": [],
   "source": [
    "# predict test data\n",
    "test_pred = model.predict( b_test)"
   ]
  },
  {
   "cell_type": "code",
   "execution_count": null,
   "metadata": {},
   "outputs": [],
   "source": [
    "test_fig = my_alg.show_some_results( b_test, x_test, test_pred,20, img_size=5)"
   ]
  },
  {
   "cell_type": "code",
   "execution_count": null,
   "metadata": {},
   "outputs": [],
   "source": []
  }
 ],
 "metadata": {
  "kernelspec": {
   "display_name": "Python 3 (ipykernel)",
   "language": "python",
   "name": "python3"
  },
  "language_info": {
   "codemirror_mode": {
    "name": "ipython",
    "version": 3
   },
   "file_extension": ".py",
   "mimetype": "text/x-python",
   "name": "python",
   "nbconvert_exporter": "python",
   "pygments_lexer": "ipython3",
   "version": "3.10.8"
  }
 },
 "nbformat": 4,
 "nbformat_minor": 4
}
