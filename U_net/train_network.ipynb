{
 "cells": [
  {
   "cell_type": "code",
   "execution_count": 1,
   "metadata": {},
   "outputs": [
    {
     "name": "stdout",
     "output_type": "stream",
     "text": [
      "Using matplotlib backend: Qt5Agg\n"
     ]
    }
   ],
   "source": [
    "import tensorflow as tf\n",
    "import numpy as np\n",
    "from tensorflow import keras\n",
    "import matplotlib.pyplot as plt\n",
    "import my_alg\n",
    "%matplotlib"
   ]
  },
  {
   "cell_type": "code",
   "execution_count": 3,
   "metadata": {},
   "outputs": [],
   "source": [
    "# define loss function\n",
    "def ave_cross_en( y_true, y_pred):\n",
    "    loss = ( keras.losses.kullback_leibler_divergence( y_true, y_pred) +  keras.losses.kld( 1 - y_true, 1- y_pred))\n",
    "    return loss"
   ]
  },
  {
   "cell_type": "code",
   "execution_count": 24,
   "metadata": {},
   "outputs": [],
   "source": [
    "# load dataset\n",
    "mnist_x = np.load('./neuron_Guo/ref_imgs.npy')\n",
    "mnist_b = np.load('./neuron_Guo/ccm_imgs.npy')\n"
   ]
  },
  {
   "cell_type": "code",
   "execution_count": 29,
   "metadata": {},
   "outputs": [
    {
     "data": {
      "text/plain": [
       "((15909, 128, 128), (15909, 128, 128))"
      ]
     },
     "execution_count": 29,
     "metadata": {},
     "output_type": "execute_result"
    }
   ],
   "source": [
    "# check shape of dataset\n",
    "mnist_x.shape, mnist_b.shape"
   ]
  },
  {
   "cell_type": "code",
   "execution_count": 30,
   "metadata": {},
   "outputs": [],
   "source": [
    "# expand dimension of dataset to fit model\n",
    "mnist_b = np.expand_dims( mnist_b, axis=3)\n",
    "mnist_x = np.expand_dims( mnist_x, axis=3)"
   ]
  },
  {
   "cell_type": "code",
   "execution_count": 31,
   "metadata": {},
   "outputs": [
    {
     "data": {
      "text/plain": [
       "((15909, 128, 128, 1), (15909, 128, 128, 1))"
      ]
     },
     "execution_count": 31,
     "metadata": {},
     "output_type": "execute_result"
    }
   ],
   "source": [
    "mnist_x.shape, mnist_b.shape"
   ]
  },
  {
   "cell_type": "code",
   "execution_count": 32,
   "metadata": {},
   "outputs": [],
   "source": [
    "# define random function to seprate dataset into train data, eval data and test data, randomly\n",
    "np.random.seed(47)\n",
    "arg_random = np.random.permutation( len( mnist_b))"
   ]
  },
  {
   "cell_type": "code",
   "execution_count": 33,
   "metadata": {},
   "outputs": [
    {
     "data": {
      "text/plain": [
       "'\\nNUM_TRAIN = 8725\\nx_train = mnist_x[:NUM_TRAIN]\\nb_train = mnist_b[:NUM_TRAIN]\\n\\nx_test = mnist_x [NUM_TRAIN:]\\nb_test = mnist_b [NUM_TRAIN:]\\n'"
      ]
     },
     "execution_count": 33,
     "metadata": {},
     "output_type": "execute_result"
    }
   ],
   "source": [
    "# seprate dataset into train data, eval data and test data, randomly\n",
    "NUM_TRAIN = int( 0.9 * len( mnist_x))\n",
    "x_train = mnist_x[ arg_random[:NUM_TRAIN-1000]]\n",
    "b_train = mnist_b[arg_random[:NUM_TRAIN-1000]]\n",
    "\n",
    "x_eval = mnist_x[ arg_random[NUM_TRAIN-1000:NUM_TRAIN]]\n",
    "b_eval = mnist_b[ arg_random[NUM_TRAIN-1000:NUM_TRAIN]]\n",
    "\n",
    "x_test = mnist_x[ arg_random[NUM_TRAIN:]]\n",
    "b_test = mnist_b[ arg_random[NUM_TRAIN:]]\n"
   ]
  },
  {
   "cell_type": "code",
   "execution_count": 35,
   "metadata": {},
   "outputs": [],
   "source": [
    "# define model and compile it\n",
    "model = my_alg.build_model_128()\n",
    "model.compile(optimizer=keras.optimizers.Adam(1e-3, amsgrad= True), loss=ave_cross_en, metrics=['mae'])"
   ]
  },
  {
   "cell_type": "code",
   "execution_count": 35,
   "metadata": {},
   "outputs": [],
   "source": [
    "# train model: set batch_size and epochs\n",
    "model.fit(b_train, x_train, batch_size=16, epochs=17, verbose=1,validation_data= ( b_eval, x_eval))"
   ]
  },
  {
   "cell_type": "code",
   "execution_count": 38,
   "metadata": {},
   "outputs": [],
   "source": [
    "# predict train data\n",
    "train_pred = model.predict( b_train)"
   ]
  },
  {
   "cell_type": "code",
   "execution_count": 38,
   "metadata": {},
   "outputs": [],
   "source": [
    "train_fig = my_alg.show_some_results( b_train, x_train, train_pred,20)"
   ]
  },
  {
   "cell_type": "code",
   "execution_count": 41,
   "metadata": {},
   "outputs": [],
   "source": [
    "# predict test data\n",
    "test_pred = model.predict( b_test)"
   ]
  },
  {
   "cell_type": "code",
   "execution_count": null,
   "metadata": {},
   "outputs": [],
   "source": [
    "test_fig = my_alg.show_some_results( b_test, x_test, test_pred,20, img_size=5)"
   ]
  }
 ],
 "metadata": {
  "kernelspec": {
   "display_name": "Python 3",
   "language": "python",
   "name": "python3"
  },
  "language_info": {
   "codemirror_mode": {
    "name": "ipython",
    "version": 3
   },
   "file_extension": ".py",
   "mimetype": "text/x-python",
   "name": "python",
   "nbconvert_exporter": "python",
   "pygments_lexer": "ipython3",
   "version": "3.7.3"
  }
 },
 "nbformat": 4,
 "nbformat_minor": 4
}
