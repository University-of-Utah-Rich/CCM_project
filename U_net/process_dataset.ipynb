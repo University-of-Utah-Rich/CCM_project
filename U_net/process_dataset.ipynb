{
 "cells": [
  {
   "cell_type": "code",
   "execution_count": 1,
   "metadata": {},
   "outputs": [
    {
     "name": "stderr",
     "output_type": "stream",
     "text": [
      "2023-02-25 19:51:13.078842: I tensorflow/core/platform/cpu_feature_guard.cc:193] This TensorFlow binary is optimized with oneAPI Deep Neural Network Library (oneDNN) to use the following CPU instructions in performance-critical operations:  SSE4.1 SSE4.2 AVX AVX2 FMA\n",
      "To enable them in other operations, rebuild TensorFlow with the appropriate compiler flags.\n"
     ]
    }
   ],
   "source": [
    "import numpy as np\n",
    "import skimage.transform as skt\n",
    "import matplotlib.pyplot as plt\n",
    "import scipy.io as sio\n",
    "import os\n",
    "import skimage.transform as skt\n",
    "import my_alg\n",
    "import tensorflow as tf\n",
    "from tqdm import tqdm\n",
    "from ipyfilechooser import FileChooser\n",
    "from skimage.color import rgba2rgb\n"
   ]
  },
  {
   "cell_type": "code",
   "execution_count": 9,
   "metadata": {},
   "outputs": [],
   "source": [
    "def path_changed(picker):\n",
    "    global ccm_fc\n",
    "    global ref_dir\n",
    "    global ccm_dir\n",
    "    if picker == ccm_fc:\n",
    "        ccm_dir = picker.selected_path\n",
    "    else:\n",
    "        ref_dir = picker.selected_path"
   ]
  },
  {
   "cell_type": "code",
   "execution_count": 36,
   "metadata": {
    "tags": []
   },
   "outputs": [
    {
     "data": {
      "application/vnd.jupyter.widget-view+json": {
       "model_id": "4d7387eaac7c4db7b38d76e42ee70096",
       "version_major": 2,
       "version_minor": 0
      },
      "text/plain": [
       "FileChooser(path='/home/jovyan/work/Spring/computational_photography/CCM_project/U_net', filename='', title='C…"
      ]
     },
     "metadata": {},
     "output_type": "display_data"
    },
    {
     "data": {
      "application/vnd.jupyter.widget-view+json": {
       "model_id": "a8958cd789574be39775a3ee3a745e7e",
       "version_major": 2,
       "version_minor": 0
      },
      "text/plain": [
       "FileChooser(path='/home/jovyan/work/Spring/computational_photography/CCM_project/U_net', filename='', title='C…"
      ]
     },
     "metadata": {},
     "output_type": "display_data"
    }
   ],
   "source": [
    "#get the ccm and ref img directories\n",
    "global ccm_fc\n",
    "global ref_fc\n",
    "ccm_fc = FileChooser(title='Choose the CCM directory', multiple=False, default_path=os.path.expanduser('~'))\n",
    "ref_fc = FileChooser(title='Choose the reference image directory', multiple=False, default_path=os.path.expanduser('~'))\n",
    "ccm_fc.register_callback(path_changed)\n",
    "ref_fc.register_callback(path_changed)\n",
    "display(ccm_fc)\n",
    "display(ref_fc)"
   ]
  },
  {
   "cell_type": "code",
   "execution_count": 37,
   "metadata": {
    "tags": []
   },
   "outputs": [],
   "source": [
    "img_ext = ('.jpg', '.png', '.bmp', '.tif')\n",
    "if ref_dir is None:\n",
    "    print('No reference image directory selected. Defaulting to home directory')\n",
    "    ref_dir = os.path.expanduser('~')\n",
    "\n",
    "if ccm_dir is None:\n",
    "    print('No ccm directory selected. Defaulting to home directory')\n",
    "    ccm_dir = os.path.expanduser('~')\n",
    "    \n",
    "if (len([f for f in os.listdir(ccm_dir) if f.endswith == '.npy']) > 0):\n",
    "    print('Warning: The ccm direction already contains .npy files. They will be overwritten.')\n",
    "\n",
    "if (len([f for f in os.listdir(ref_dir) if f.endswith == '.npy']) > 0):\n",
    "    print('Warning: The reference image direction already contains .npy files. They will be overwritten.')\n",
    "\n",
    "# get the list of image files in the ccm and ref directories\n",
    "ccm_file_lst = [f for f in os.listdir(ccm_dir) if f.endswith(img_ext)]\n",
    "gt_file_lst = [f for f in os.listdir(ref_dir) if f.endswith(img_ext)]\n",
    "# if there are no files in the ccm directory, exit\n",
    "if len(ccm_file_lst) == 0:\n",
    "    print('No image files in the ccm directory')\n",
    "    exit(1)\n",
    "\n",
    "# if the number of files in the ccm and ref directories are not the same, exit\n",
    "# as this is not a valid dataset\n",
    "if len(ccm_file_lst) != len(gt_file_lst):\n",
    "    print('The number of files in the ccm and ref directories are not the same')\n",
    "    exit(1)\n"
   ]
  },
  {
   "cell_type": "code",
   "execution_count": 40,
   "metadata": {
    "tags": []
   },
   "outputs": [
    {
     "name": "stderr",
     "output_type": "stream",
     "text": [
      "100%|██████████| 2/2 [00:00<00:00,  8.92it/s]\n"
     ]
    }
   ],
   "source": [
    "ref_imgs = []\n",
    "ref_imgs1 = []\n",
    "ccm_imgs = []\n",
    "ccm_imgs1 = []\n",
    "reshape_shape = [128,128] #[128,128,3]\n",
    "\n",
    "# loop over all images in file_lst\n",
    "i = 0\n",
    "\n",
    "for name in tqdm(ccm_file_lst):\n",
    "    i += 1\n",
    "    # read and process the ref image\n",
    "    ref_img_path = os.path.join( ref_dir, name)\n",
    "    ref_img = plt.imread(ref_img_path)\n",
    "    ref_img = ref_img - np.min(ref_img)\n",
    "    ref_img = ref_img / np.max(ref_img)\n",
    "    ref_img = skt.resize(ref_img, reshape_shape)\n",
    "    # If there is an alpha channel, remove it.\n",
    "    ref_img = ref_img[:,:,:3]\n",
    "    ref_imgs.append( ref_img)\n",
    "    # read and process the ccm image\n",
    "    # assume that the ccm image has the same name as the ref image\n",
    "    ccm_img_path = os.path.join( ccm_dir, name)\n",
    "    ccm_img = plt.imread(ccm_img_path)\n",
    "    ccm_img = ccm_img - np.min(ccm_img)\n",
    "    ccm_img = ccm_img / np.max(ccm_img)\n",
    "    ccm_img = skt.resize(ccm_img, reshape_shape)\n",
    "    ccm_imgs.append(ccm_img)\n",
    "    \n",
    "ref_imgs = np.array( ref_imgs)\n",
    "ccm_imgs = np.array( ccm_imgs)"
   ]
  },
  {
   "cell_type": "code",
   "execution_count": 41,
   "metadata": {
    "tags": []
   },
   "outputs": [],
   "source": [
    "#save the processed dataset: You need to adjust the directory.\n",
    "np.save( f'{ccm_dir}/ccm_optrode_flow_128_allnorm_ccm1_128.npy',ccm_imgs)\n",
    "np.save( f'{ref_dir}/ref_optrode_flow_128_allnorm_ccm1_128.npy',ref_imgs)"
   ]
  },
  {
   "cell_type": "code",
   "execution_count": 5,
   "metadata": {},
   "outputs": [
    {
     "data": {
      "text/plain": [
       "array([[[0., 0., 0.],\n",
       "        [0., 0., 0.],\n",
       "        [0., 0., 0.],\n",
       "        ...,\n",
       "        [0., 0., 0.],\n",
       "        [0., 0., 0.],\n",
       "        [0., 0., 0.]],\n",
       "\n",
       "       [[0., 0., 0.],\n",
       "        [0., 0., 0.],\n",
       "        [0., 0., 0.],\n",
       "        ...,\n",
       "        [0., 0., 0.],\n",
       "        [0., 0., 0.],\n",
       "        [0., 0., 0.]],\n",
       "\n",
       "       [[0., 0., 0.],\n",
       "        [0., 0., 0.],\n",
       "        [0., 0., 0.],\n",
       "        ...,\n",
       "        [0., 0., 0.],\n",
       "        [0., 0., 0.],\n",
       "        [0., 0., 0.]],\n",
       "\n",
       "       ...,\n",
       "\n",
       "       [[0., 0., 0.],\n",
       "        [0., 0., 0.],\n",
       "        [0., 0., 0.],\n",
       "        ...,\n",
       "        [0., 0., 0.],\n",
       "        [0., 0., 0.],\n",
       "        [0., 0., 0.]],\n",
       "\n",
       "       [[0., 0., 0.],\n",
       "        [0., 0., 0.],\n",
       "        [0., 0., 0.],\n",
       "        ...,\n",
       "        [0., 0., 0.],\n",
       "        [0., 0., 0.],\n",
       "        [0., 0., 0.]],\n",
       "\n",
       "       [[0., 0., 0.],\n",
       "        [0., 0., 0.],\n",
       "        [0., 0., 0.],\n",
       "        ...,\n",
       "        [0., 0., 0.],\n",
       "        [0., 0., 0.],\n",
       "        [0., 0., 0.]]], dtype=float32)"
      ]
     },
     "execution_count": 5,
     "metadata": {},
     "output_type": "execute_result"
    }
   ],
   "source": [
    "## Test cell for debugging and such\n",
    "reshape_shape = [128,128] #[128,128,3]\n",
    "ref_img_path = '/home/jovyan/phots/Photos/1.png'\n",
    "ref_img = plt.imread(ref_img_path)\n",
    "ref_img = ref_img - np.min(ref_img)\n",
    "ref_img = ref_img / np.max(ref_img)\n",
    "ref_img = skt.resize(ref_img, reshape_shape)\n"
   ]
  },
  {
   "cell_type": "code",
   "execution_count": null,
   "metadata": {},
   "outputs": [],
   "source": []
  }
 ],
 "metadata": {
  "kernelspec": {
   "display_name": "base",
   "language": "python",
   "name": "python3"
  },
  "language_info": {
   "codemirror_mode": {
    "name": "ipython",
    "version": 3
   },
   "file_extension": ".py",
   "mimetype": "text/x-python",
   "name": "python",
   "nbconvert_exporter": "python",
   "pygments_lexer": "ipython3",
   "version": "3.10.8"
  },
  "vscode": {
   "interpreter": {
    "hash": "d4d1e4263499bec80672ea0156c357c1ee493ec2b1c70f0acce89fc37c4a6abe"
   }
  }
 },
 "nbformat": 4,
 "nbformat_minor": 4
}
