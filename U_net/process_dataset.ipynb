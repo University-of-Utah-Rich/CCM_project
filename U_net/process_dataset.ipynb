{
 "cells": [
  {
   "cell_type": "code",
   "execution_count": 2,
   "metadata": {},
   "outputs": [
    {
     "name": "stderr",
     "output_type": "stream",
     "text": [
      "2023-04-11 13:17:02.765238: I tensorflow/core/platform/cpu_feature_guard.cc:193] This TensorFlow binary is optimized with oneAPI Deep Neural Network Library (oneDNN) to use the following CPU instructions in performance-critical operations:  AVX2 FMA\n",
      "To enable them in other operations, rebuild TensorFlow with the appropriate compiler flags.\n",
      "2023-04-11 13:17:02.881795: W tensorflow/compiler/xla/stream_executor/platform/default/dso_loader.cc:64] Could not load dynamic library 'libcudart.so.11.0'; dlerror: libcudart.so.11.0: cannot open shared object file: No such file or directory; LD_LIBRARY_PATH: /home/rich/Documents/school/2023/Spring/computational_photography/CCM_project/U_net/.pyenv/lib/python3.10/site-packages/cv2/../../lib64:\n",
      "2023-04-11 13:17:02.881815: I tensorflow/compiler/xla/stream_executor/cuda/cudart_stub.cc:29] Ignore above cudart dlerror if you do not have a GPU set up on your machine.\n",
      "2023-04-11 13:17:03.501385: W tensorflow/compiler/xla/stream_executor/platform/default/dso_loader.cc:64] Could not load dynamic library 'libnvinfer.so.7'; dlerror: libnvinfer.so.7: cannot open shared object file: No such file or directory; LD_LIBRARY_PATH: /home/rich/Documents/school/2023/Spring/computational_photography/CCM_project/U_net/.pyenv/lib/python3.10/site-packages/cv2/../../lib64:\n",
      "2023-04-11 13:17:03.501435: W tensorflow/compiler/xla/stream_executor/platform/default/dso_loader.cc:64] Could not load dynamic library 'libnvinfer_plugin.so.7'; dlerror: libnvinfer_plugin.so.7: cannot open shared object file: No such file or directory; LD_LIBRARY_PATH: /home/rich/Documents/school/2023/Spring/computational_photography/CCM_project/U_net/.pyenv/lib/python3.10/site-packages/cv2/../../lib64:\n",
      "2023-04-11 13:17:03.501440: W tensorflow/compiler/tf2tensorrt/utils/py_utils.cc:38] TF-TRT Warning: Cannot dlopen some TensorRT libraries. If you would like to use Nvidia GPU with TensorRT, please make sure the missing libraries mentioned above are installed properly.\n"
     ]
    }
   ],
   "source": [
    "import numpy as np\n",
    "import skimage.transform as skt\n",
    "import matplotlib.pyplot as plt\n",
    "import scipy.io as sio\n",
    "import os\n",
    "import skimage.transform as skt\n",
    "import cv2\n",
    "import tensorflow as tf\n",
    "from tqdm import tqdm\n",
    "from ipyfilechooser import FileChooser\n",
    "from skimage.color import rgba2rgb\n",
    "from IPython.display import clear_output\n"
   ]
  },
  {
   "cell_type": "code",
   "execution_count": 3,
   "metadata": {
    "tags": []
   },
   "outputs": [],
   "source": [
    "img_ext = ('.jpg', '.png', '.bmp', '.tif')\n",
    "captured_path = \"/home/rich/Documents/school/2023/Spring/computational_photography/camphotos\"\n",
    "ref_dir = \"/home/rich/Documents/school/2023/Spring/computational_photography/refphotos\"\n",
    "# get the list of image files in the ccm and ref directories\n",
    "captured_file_list = [f for f in os.listdir(captured_path) if f.endswith(img_ext)]\n",
    "gt_file_list = [f for f in os.listdir(ref_dir) if f.endswith(img_ext)]\n",
    "# if there are no files in the ccm directory, exit\n",
    "if len(captured_file_list) == 0:\n",
    "    print('No image files in the ccm directory')\n",
    "    exit(1)\n",
    "\n",
    "# if the number of files in the ccm and ref directories are not the same, exit\n",
    "# as this is not a valid dataset\n",
    "if len(captured_file_list) != len(gt_file_list):\n",
    "    print('The number of files in the ccm and ref directories are not the same')\n",
    "    exit(1)\n"
   ]
  },
  {
   "cell_type": "code",
   "execution_count": 17,
   "metadata": {
    "tags": []
   },
   "outputs": [
    {
     "name": "stderr",
     "output_type": "stream",
     "text": [
      "100%|██████████| 10000/10000 [00:00<00:00, 14502.36it/s]\n",
      "100%|██████████| 10000/10000 [00:11<00:00, 842.91it/s]\n"
     ]
    }
   ],
   "source": [
    "reshape_shape = (128,128) #[128,128,3]\n",
    "\n",
    "# Get number of images\n",
    "num_images = len(captured_file_list)\n",
    "\n",
    "# Initialize empty numpy array to store images\n",
    "imgs = np.zeros((num_images, *reshape_shape), dtype=np.uint8)\n",
    "\n",
    "# Loop through each image file and read directly into the numpy array\n",
    "for i, file in enumerate(tqdm(gt_file_list)):\n",
    "    img = cv2.imread(os.path.join(ref_dir, file), cv2.IMREAD_GRAYSCALE)\n",
    "    # scale everything to 0-1\n",
    "    img = img - np.min(img)\n",
    "    #img = img / np.max(img)\n",
    "    # resize to 128x128\n",
    "    img = cv2.resize(img, reshape_shape)\n",
    "    \n",
    "    imgs[i, :, :] = img\n",
    "\n",
    "# Save numpy array to file\n",
    "np.save('ref_images.npy', imgs)\n",
    "\n",
    "imgs = np.zeros((num_images, *(reshape_shape)), dtype=np.uint8)\n",
    "\n",
    "for i, file in enumerate(tqdm(captured_file_list)):\n",
    "    img = cv2.imread(os.path.join(captured_path, file), cv2.IMREAD_GRAYSCALE)\n",
    "    img = img - np.min(img)\n",
    "    #img = img / np.max(img)\n",
    "    img = cv2.resize(img, reshape_shape)\n",
    "    imgs[i, :, :] = img\n",
    "\n",
    "np.save('captured_images.npy', imgs)\n",
    "imgs = None # free up memory"
   ]
  },
  {
   "cell_type": "code",
   "execution_count": null,
   "metadata": {},
   "outputs": [],
   "source": []
  },
  {
   "cell_type": "code",
   "execution_count": 23,
   "metadata": {},
   "outputs": [
    {
     "data": {
      "image/png": "[encoded data removed]",
      "text/plain": [
       "<Figure size 640x480 with 1 Axes>"
      ]
     },
     "metadata": {},
     "output_type": "display_data"
    }
   ],
   "source": [
    "image_ndarray = np.load('captured_images.npy')\n",
    "mean_image = np.mean(image_ndarray, axis=0)\n",
    "image_variances = []\n",
    "for img in image_ndarray:\n",
    "    diff = img - mean_image\n",
    "    variance = np.mean(np.square(diff))\n",
    "    image_variances.append(variance)\n",
    "plt.hist(image_variances, bins=50)\n",
    "plt.xlabel('Image Variance')\n",
    "plt.ylabel('Count')\n",
    "plt.show()\n",
    "image_ndarray = None # free up memory"
   ]
  },
  {
   "cell_type": "code",
   "execution_count": null,
   "metadata": {},
   "outputs": [],
   "source": []
  }
 ],
 "metadata": {
  "kernelspec": {
   "display_name": ".pyenv",
   "language": "python",
   "name": "python3"
  },
  "language_info": {
   "codemirror_mode": {
    "name": "ipython",
    "version": 3
   },
   "file_extension": ".py",
   "mimetype": "text/x-python",
   "name": "python",
   "nbconvert_exporter": "python",
   "pygments_lexer": "ipython3",
   "version": "3.10.6"
  },
  "vscode": {
   "interpreter": {
    "hash": "26565357aa801e1b2f6526d09c24a012c56a78816a37790c843638448a7f6205"
   }
  }
 },
 "nbformat": 4,
 "nbformat_minor": 4
}
