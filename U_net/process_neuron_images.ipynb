{
 "cells": [
  {
   "cell_type": "code",
   "execution_count": 1,
   "metadata": {},
   "outputs": [
    {
     "name": "stderr",
     "output_type": "stream",
     "text": [
      "2023-02-15 21:20:06.384833: I tensorflow/core/platform/cpu_feature_guard.cc:193] This TensorFlow binary is optimized with oneAPI Deep Neural Network Library (oneDNN) to use the following CPU instructions in performance-critical operations:  SSE4.1 SSE4.2 AVX AVX2 FMA\n",
      "To enable them in other operations, rebuild TensorFlow with the appropriate compiler flags.\n"
     ]
    }
   ],
   "source": [
    "import numpy as np\n",
    "import skimage.transform as skt\n",
    "import matplotlib.pyplot as plt\n",
    "import scipy.io as sio\n",
    "import os\n",
    "import skimage.transform as skt\n",
    "import my_alg\n",
    "import tensorflow as tf\n",
    "\n"
   ]
  },
  {
   "cell_type": "code",
   "execution_count": 16,
   "metadata": {
    "tags": []
   },
   "outputs": [],
   "source": [
    "ref_dir = './training_data'\n",
    "ccm_dir = './training_data'  \n",
    "file_lst = os.listdir( ccm_dir) \n",
    "ref_imgs = []\n",
    "ref_imgs1 = []\n",
    "ccm_imgs = []\n",
    "ccm_imgs1 = []\n",
    "reshape_shape = [128,128] #[128,128,3]\n",
    "\n",
    "for ii in range(1):\n",
    "    for i in range( len( file_lst)):\n",
    "        i = i\n",
    "        ref_img_path1 = os.path.join( ccm_dir, '%i.mat' % i)\n",
    "        ref_mat1 = sio.loadmat( ref_img_path1, verify_compressed_data_integrity=False)\n",
    "        ref_img1 = ref_mat1['imgHDR']\n",
    "        m = np.max( ref_img1)\n",
    "        if m>0:\n",
    "            ref_img_path = os.path.join( ref_dir, '%i.mat' % i)\n",
    "            ref_mat = sio.loadmat( ref_img_path, verify_compressed_data_integrity=False)\n",
    "            ref_img = ref_mat['objRef']\n",
    "            ref_img = ref_img - np.min( ref_img)\n",
    "            ref_img = ref_img / np.max( ref_img)\n",
    "            ref_img = skt.resize( ref_img1, reshape_shape)\n",
    "            ref_imgs.append( ref_img)\n",
    "\n",
    "            ccm_img_path = os.path.join( ccm_dir, '%i.mat'%i)\n",
    "            ccm_mat = sio.loadmat( ccm_img_path)\n",
    "            ccm_img = ccm_mat['imgHDR']\n",
    "            ccm_img = ccm_img - np.min( ccm_img)\n",
    "            ccm_img = ccm_img / np.max( ccm_img)\n",
    "            ccm_img = skt.resize( ccm_img, reshape_shape)\n",
    "            ccm_imgs.append( ccm_img)\n",
    "\n",
    "        if i % 100 == 0:\n",
    "            print( i)\n",
    "    \n",
    "ref_imgs = np.array( ref_imgs)\n",
    "ccm_imgs = np.array( ccm_imgs)\n",
    "\n",
    "np.save( 'H:/CCM/ccm_plant_with_coverslip_20210320_128_allnorm.npy',ccm_imgs)\n",
    "np.save( 'H:/CCM/ref_plant_with_coverslip_20210320_128_allnorm.npy',ref_imgs)"
   ]
  },
  {
   "cell_type": "code",
   "execution_count": null,
   "metadata": {},
   "outputs": [],
   "source": []
  }
 ],
 "metadata": {
  "kernelspec": {
   "display_name": "Python 3 (ipykernel)",
   "language": "python",
   "name": "python3"
  },
  "language_info": {
   "codemirror_mode": {
    "name": "ipython",
    "version": 3
   },
   "file_extension": ".py",
   "mimetype": "text/x-python",
   "name": "python",
   "nbconvert_exporter": "python",
   "pygments_lexer": "ipython3",
   "version": "3.10.8"
  },
  "vscode": {
   "interpreter": {
    "hash": "31f2aee4e71d21fbe5cf8b01ff0e069b9275f58929596ceb00d14d90e3e16cd6"
   }
  }
 },
 "nbformat": 4,
 "nbformat_minor": 4
}
