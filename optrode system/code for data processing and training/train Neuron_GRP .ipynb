{
 "cells": [
  {
   "cell_type": "code",
   "execution_count": 1,
   "metadata": {},
   "outputs": [],
   "source": [
    "import tensorflow as tf\n",
    "import numpy as np\n",
    "from tensorflow import keras\n",
    "import matplotlib.pyplot as plt\n",
    "import skimage.transform as skt\n",
    "from skimage.measure import compare_ssim  as ssim\n",
    "import os\n",
    "import gc\n",
    "import pickle\n",
    "import my_alg_grp\n",
    "%matplotlib inline"
   ]
  },
  {
   "cell_type": "code",
   "execution_count": 5,
   "metadata": {},
   "outputs": [],
   "source": [
    "#define loss function\n",
    "def ave_cross_en( y_true, y_pred):\n",
    "    loss = ( keras.losses.kullback_leibler_divergence( y_true, y_pred) +  keras.losses.kld( 1 - y_true, 1- y_pred))\n",
    "    return loss\n",
    "def ssim_loss(y_true, y_pred):\n",
    "  return (1 - tf.reduce_mean(tf.image.ssim(y_true, y_pred, 2.0)))\n",
    "def ave_cross_en_ssim( y_true, y_pred):\n",
    "    loss = ( keras.losses.kullback_leibler_divergence( y_true, y_pred) +  keras.losses.kld( 1 - y_true, 1- y_pred) + (1 - tf.reduce_mean(tf.image.ssim(y_true, y_pred, 2.0))))\n",
    "    return loss\n",
    "def ave_MAE_en( y_true, y_pred):\n",
    "    loss = tf.keras.losses.MeanAbsoluteError(reduction=\"auto\", name=\"mean_absolute_error\")\n",
    "    return loss"
   ]
  },
  {
   "cell_type": "code",
   "execution_count": 8,
   "metadata": {},
   "outputs": [],
   "source": [
    "#define functions for calculating SSIM and MAE\n",
    "def average_SSIM( y_true, y_pred):\n",
    "    ssims = []\n",
    "    y_true = np.squeeze( y_true)\n",
    "    y_pred = np.squeeze( y_pred)\n",
    "\n",
    "    if len( y_true) !=  len( y_pred):\n",
    "        raise  NameError(\"length not match!\")\n",
    "\n",
    "    for i in range(len(y_pred)):\n",
    "        x = y_pred[i]\n",
    "        y = y_true[i]\n",
    "        #ss = ssim(x, y,multichannel=True)\n",
    "        ss = ssim(x, y)\n",
    "        ssims.append(ss)\n",
    "    ssims = np.array(ssims)\n",
    "    ave_ssim = np.average(ssims)\n",
    "\n",
    "    return ssims\n",
    "\n",
    "def average_MAE( y_true, y_pred):\n",
    "    mae = []\n",
    "    y_true = np.squeeze( y_true)\n",
    "    y_pred = np.squeeze( y_pred)\n",
    "\n",
    "    if len( y_true) !=  len( y_pred):\n",
    "        raise  NameError(\"length not match!\")\n",
    "    #a,b = y_true[1][0].shape\n",
    "    a,b = y_true[1].shape\n",
    "    for i in range(len(y_pred)):\n",
    "        x = y_pred[i]\n",
    "        y = y_true[i]\n",
    "        d = abs(x-y)\n",
    "        #m = sum(sum(sum(d)))/(3*128*128)\n",
    "        m = sum(sum(d))/(a*b)\n",
    "        mae.append(m)\n",
    "    mae = np.array(mae)\n",
    "    ave_mae = np.average(mae)\n",
    "\n",
    "    return mae\n",
    "\n",
    "def ave_SSIM( y_true, y_pred):\n",
    "    #ssims = []\n",
    "    y_true = np.squeeze( y_true)\n",
    "    y_pred = np.squeeze( y_pred)\n",
    "    ssim1 = tf.image.ssim(y_true, y_pred)\n",
    "    #ss = ssim(y_true, y_pred)\n",
    "    #ssims.append(ss)\n",
    "    #ssims = np.array(ssims)\n",
    "    ave_ssim = np.average(ssim1)\n",
    "\n",
    "    return ave_ssim"
   ]
  },
  {
   "cell_type": "code",
   "execution_count": 11,
   "metadata": {
    "tags": []
   },
   "outputs": [],
   "source": [
    "#load dataset\n",
    "mnist_x = np.load('I:/flow_test/20220902_20fps/ref_optrode_bead_for_flow_128_allnorm_ccm1_128.npy')\n",
    "mnist_b = np.load('I:/flow_test/20220902_20fps/ccm_optrode_bead_for_flow_128_allnorm_ccm1_128.npy')"
   ]
  },
  {
   "cell_type": "code",
   "execution_count": 12,
   "metadata": {},
   "outputs": [],
   "source": [
    "mnist_b = np.expand_dims( mnist_b, axis=3)\n",
    "mnist_x = np.expand_dims( mnist_x, axis=3)"
   ]
  },
  {
   "cell_type": "code",
   "execution_count": 14,
   "metadata": {},
   "outputs": [],
   "source": [
    "#seperate the dataset\n",
    "x_test1 = mnist_x[:2000]\n",
    "b_test1 = mnist_b[:2000]\n",
    "\n",
    "x_eval1 = mnist_x[2000:4000]\n",
    "b_eval1 = mnist_b[2000:4000]\n",
    "\n",
    "x_train1 = mnist_x[4000:]\n",
    "b_train1 = mnist_b[4000:]"
   ]
  },
  {
   "cell_type": "code",
   "execution_count": 19,
   "metadata": {
    "tags": []
   },
   "outputs": [],
   "source": [
    "#define model\n",
    "model1 = build_model_128_filter_change1()\n",
    "model1.compile(optimizer=keras.optimizers.Adam(1e-4, amsgrad= True), loss=ave_cross_en_ssim, metrics=['mae'])"
   ]
  },
  {
   "cell_type": "code",
   "execution_count": 26,
   "metadata": {
    "collapsed": true,
    "jupyter": {
     "outputs_hidden": true
    },
    "tags": []
   },
   "outputs": [
    {
     "name": "stdout",
     "output_type": "stream",
     "text": [
      "Train on 22088 samples, validate on 2000 samples\n",
      "Epoch 1/25\n",
      "22088/22088 [==============================] - 288s 13ms/sample - loss: 0.4323 - mean_absolute_error: 0.1026 - val_loss: 0.6624 - val_mean_absolute_error: 0.1434\n",
      "Epoch 2/25\n",
      "22088/22088 [==============================] - 289s 13ms/sample - loss: 0.3188 - mean_absolute_error: 0.0749 - val_loss: 0.4484 - val_mean_absolute_error: 0.0912\n",
      "Epoch 3/25\n",
      "22088/22088 [==============================] - 284s 13ms/sample - loss: 0.2844 - mean_absolute_error: 0.0682 - val_loss: 0.4633 - val_mean_absolute_error: 0.0950\n",
      "Epoch 4/25\n",
      "22088/22088 [==============================] - 284s 13ms/sample - loss: 0.2648 - mean_absolute_error: 0.0642 - val_loss: 0.3919 - val_mean_absolute_error: 0.0788\n",
      "Epoch 5/25\n",
      "22088/22088 [==============================] - 284s 13ms/sample - loss: 0.2510 - mean_absolute_error: 0.0615 - val_loss: 0.4159 - val_mean_absolute_error: 0.0882\n",
      "Epoch 6/25\n",
      "22088/22088 [==============================] - 284s 13ms/sample - loss: 0.2401 - mean_absolute_error: 0.0593 - val_loss: 0.3589 - val_mean_absolute_error: 0.0710\n",
      "Epoch 7/25\n",
      "22088/22088 [==============================] - 284s 13ms/sample - loss: 0.2319 - mean_absolute_error: 0.0576 - val_loss: 0.3642 - val_mean_absolute_error: 0.0728\n",
      "Epoch 8/25\n",
      "22088/22088 [==============================] - 289s 13ms/sample - loss: 0.2252 - mean_absolute_error: 0.0562 - val_loss: 0.3700 - val_mean_absolute_error: 0.0764\n",
      "Epoch 9/25\n",
      "22088/22088 [==============================] - 285s 13ms/sample - loss: 0.2213 - mean_absolute_error: 0.0556 - val_loss: 0.3542 - val_mean_absolute_error: 0.0717\n",
      "Epoch 10/25\n",
      "22088/22088 [==============================] - 284s 13ms/sample - loss: 0.2138 - mean_absolute_error: 0.0540 - val_loss: 0.3649 - val_mean_absolute_error: 0.0759\n",
      "Epoch 11/25\n",
      "22088/22088 [==============================] - 284s 13ms/sample - loss: 0.2084 - mean_absolute_error: 0.0528 - val_loss: 0.3414 - val_mean_absolute_error: 0.0697\n",
      "Epoch 12/25\n",
      "22088/22088 [==============================] - 282s 13ms/sample - loss: 0.2061 - mean_absolute_error: 0.0524 - val_loss: 0.3424 - val_mean_absolute_error: 0.0697\n",
      "Epoch 13/25\n",
      "22088/22088 [==============================] - 285s 13ms/sample - loss: 0.1996 - mean_absolute_error: 0.0510 - val_loss: 0.3696 - val_mean_absolute_error: 0.0780\n",
      "Epoch 14/25\n",
      "22088/22088 [==============================] - 284s 13ms/sample - loss: 0.1961 - mean_absolute_error: 0.0504 - val_loss: 0.3521 - val_mean_absolute_error: 0.0736\n",
      "Epoch 15/25\n",
      "22088/22088 [==============================] - 283s 13ms/sample - loss: 0.1926 - mean_absolute_error: 0.0496 - val_loss: 0.3426 - val_mean_absolute_error: 0.0709\n",
      "Epoch 16/25\n",
      "22088/22088 [==============================] - 285s 13ms/sample - loss: 0.1916 - mean_absolute_error: 0.0496 - val_loss: 0.3626 - val_mean_absolute_error: 0.0766\n",
      "Epoch 17/25\n",
      "22088/22088 [==============================] - 285s 13ms/sample - loss: 0.1874 - mean_absolute_error: 0.0487 - val_loss: 0.3713 - val_mean_absolute_error: 0.0765\n",
      "Epoch 18/25\n",
      "22088/22088 [==============================] - 286s 13ms/sample - loss: 0.1840 - mean_absolute_error: 0.0480 - val_loss: 0.3752 - val_mean_absolute_error: 0.0790\n",
      "Epoch 19/25\n",
      "22088/22088 [==============================] - 285s 13ms/sample - loss: 0.1821 - mean_absolute_error: 0.0477 - val_loss: 0.3341 - val_mean_absolute_error: 0.0675\n",
      "Epoch 20/25\n",
      "22088/22088 [==============================] - 285s 13ms/sample - loss: 0.1789 - mean_absolute_error: 0.0471 - val_loss: 0.3376 - val_mean_absolute_error: 0.0682\n",
      "Epoch 21/25\n",
      "22088/22088 [==============================] - 288s 13ms/sample - loss: 0.1787 - mean_absolute_error: 0.0470 - val_loss: 0.3490 - val_mean_absolute_error: 0.0713\n",
      "Epoch 22/25\n",
      "22088/22088 [==============================] - 289s 13ms/sample - loss: 0.1754 - mean_absolute_error: 0.0464 - val_loss: 0.3418 - val_mean_absolute_error: 0.0696\n",
      "Epoch 23/25\n",
      "22088/22088 [==============================] - 288s 13ms/sample - loss: 0.1728 - mean_absolute_error: 0.0459 - val_loss: 0.3447 - val_mean_absolute_error: 0.0701\n",
      "Epoch 24/25\n",
      "22088/22088 [==============================] - 288s 13ms/sample - loss: 0.1700 - mean_absolute_error: 0.0453 - val_loss: 0.3427 - val_mean_absolute_error: 0.0690\n",
      "Epoch 25/25\n",
      "22088/22088 [==============================] - 287s 13ms/sample - loss: 0.1688 - mean_absolute_error: 0.0452 - val_loss: 0.3505 - val_mean_absolute_error: 0.0721\n"
     ]
    },
    {
     "data": {
      "text/plain": [
       "<tensorflow.python.keras.callbacks.History at 0x1ec0a9bea20>"
      ]
     },
     "execution_count": 26,
     "metadata": {},
     "output_type": "execute_result"
    }
   ],
   "source": [
    "#train model\n",
    "model1.fit(b_train1, x_train1, batch_size=16, epochs=25, verbose=1,validation_data= ( b_eval1, x_eval1))"
   ]
  },
  {
   "cell_type": "code",
   "execution_count": 22,
   "metadata": {
    "tags": []
   },
   "outputs": [],
   "source": [
    "#save model\n",
    "model.save('I:/flow_test/20220902_20fps/optrode_1e4_bs16_epoch25_allnorm_ccm1_128')"
   ]
  },
  {
   "cell_type": "code",
   "execution_count": 27,
   "metadata": {},
   "outputs": [],
   "source": [
    "#predict test data\n",
    "y_pred1 = model1.predict(b_test1)"
   ]
  },
  {
   "cell_type": "code",
   "execution_count": 44,
   "metadata": {
    "tags": []
   },
   "outputs": [],
   "source": [
    "#show images\n",
    "a = np.arange(0,20,1) \n",
    "test_fig = my_alg_grp.show_some_results( b_test1, x_test1, y_pred1,20, img_size=5, indexes = a, resize_shape=(128, 128))"
   ]
  },
  {
   "cell_type": "code",
   "execution_count": 47,
   "metadata": {},
   "outputs": [],
   "source": [
    "#calculate ssim and mae\n",
    "ssims_t = []\n",
    "maes_t = []\n",
    "ssims_tr = []\n",
    "maes_tr = []\n",
    "ssims_t  = average_SSIM(x_test1,y_pred1)\n",
    "maes_t  = average_MAE(x_test1,y_pred1)\n",
    "\n",
    "ave_ssims_t = np.average(ssims_t)\n",
    "ave_maes_t = np.average(maes_t)\n",
    "\n",
    "print(ave_ssims_t)\n",
    "print(ave_maes_t)"
   ]
  }
 ],
 "metadata": {
  "kernelspec": {
   "display_name": "Python [conda env:root] *",
   "language": "python",
   "name": "conda-root-py"
  },
  "language_info": {
   "codemirror_mode": {
    "name": "ipython",
    "version": 3
   },
   "file_extension": ".py",
   "mimetype": "text/x-python",
   "name": "python",
   "nbconvert_exporter": "python",
   "pygments_lexer": "ipython3",
   "version": "3.7.3"
  }
 },
 "nbformat": 4,
 "nbformat_minor": 4
}
