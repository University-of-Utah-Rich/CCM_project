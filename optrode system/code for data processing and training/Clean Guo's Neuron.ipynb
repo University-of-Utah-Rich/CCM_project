{
 "cells": [
  {
   "cell_type": "code",
   "execution_count": 1,
   "metadata": {},
   "outputs": [],
   "source": [
    "import numpy as np\n",
    "import skimage.transform as skt\n",
    "import matplotlib.pyplot as plt\n",
    "import scipy.io as sio\n",
    "import os\n",
    "import skimage.transform as skt\n",
    "import my_alg\n",
    "import tensorflow as tf"
   ]
  },
  {
   "cell_type": "code",
   "execution_count": 17,
   "metadata": {},
   "outputs": [],
   "source": [
    "ref_dir = 'I:/flow_test/20220902_20fps/20220904_flow_test/ref1'\n",
    "ref_dir1 = 'I:/flow_test/20220902_20fps/20220904_flow_test/ref2'\n",
    "ccm_dir = 'I:/flow_test/20220902_20fps/20220904_flow_test/ccm1' \n",
    "ccm_dir1 = 'I:/flow_test/20220902_20fps/20220904_flow_test/ccm2'"
   ]
  },
  {
   "cell_type": "code",
   "execution_count": 18,
   "metadata": {},
   "outputs": [],
   "source": [
    "file_lst = os.listdir( ccm_dir)\n",
    "len( file_lst)"
   ]
  },
  {
   "cell_type": "code",
   "execution_count": 23,
   "metadata": {
    "tags": []
   },
   "outputs": [],
   "source": [
    "# load .mat file and normalization \n",
    "ref_imgs = []\n",
    "ref_imgs1 = []\n",
    "ccm_imgs = []\n",
    "ccm_imgs1 = []\n",
    "reshape_shape = [128,128]\n",
    "\n",
    "for ii in range(1):\n",
    "    for i in range( len( file_lst1)):\n",
    "\n",
    "        ref_img_path = os.path.join( ref_dir1, '%i.mat' % i)\n",
    "        ref_mat = sio.loadmat( ref_img_path, verify_compressed_data_integrity=False)\n",
    "\n",
    "        ref_img = ref_mat['objRef1']\n",
    "        ref_img = ref_img - np.min( ref_img)\n",
    "        ref_img = ref_img / np.max( ref_img)\n",
    "        ref_img = skt.resize( ref_img, reshape_shape)\n",
    "        ref_imgs.append( ref_img)\n",
    "            \n",
    "        ccm_img_path = os.path.join( ccm_dir1, '%i.mat'%i)\n",
    "        ccm_mat = sio.loadmat( ccm_img_path)\n",
    "        ccm_img = np.fliplr(ccm_mat['imgHDR1'])\n",
    "        ccm_img = ccm_img - np.min( ccm_img)\n",
    "        ccm_img = ccm_img / np.max( ccm_img)\n",
    "        ccm_img = skt.resize( ccm_img, reshape_shape)\n",
    "        ccm_imgs.append( ccm_img)\n",
    "\n",
    "        if i % 100 == 0:\n",
    "            print( i)\n",
    "    \n",
    "ref_imgs = np.array( ref_imgs)\n",
    "ccm_imgs = np.array( ccm_imgs)"
   ]
  },
  {
   "cell_type": "code",
   "execution_count": 23,
   "metadata": {
    "tags": []
   },
   "outputs": [],
   "source": [
    "# save .npy file for training\n",
    "np.save( 'I:/flow_test/20220902_20fps/ccm_optrode_flow_128_allnorm_ccm1_128.npy',ccm_imgs)\n",
    "np.save( 'I:/flow_test/20220902_20fps/ref_optrode_flow_128_allnorm_ccm1_128.npy',ref_imgs)"
   ]
  }
 ],
 "metadata": {
  "kernelspec": {
   "display_name": "Python 3 (ipykernel)",
   "language": "python",
   "name": "python3"
  },
  "language_info": {
   "codemirror_mode": {
    "name": "ipython",
    "version": 3
   },
   "file_extension": ".py",
   "mimetype": "text/x-python",
   "name": "python",
   "nbconvert_exporter": "python",
   "pygments_lexer": "ipython3",
   "version": "3.7.3"
  }
 },
 "nbformat": 4,
 "nbformat_minor": 4
}
